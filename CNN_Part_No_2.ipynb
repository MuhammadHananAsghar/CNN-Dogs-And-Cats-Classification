{
  "nbformat": 4,
  "nbformat_minor": 0,
  "metadata": {
    "colab": {
      "name": "CNN Part No 2.ipynb",
      "provenance": []
    },
    "kernelspec": {
      "name": "python3",
      "display_name": "Python 3"
    },
    "accelerator": "GPU"
  },
  "cells": [
    {
      "cell_type": "code",
      "metadata": {
        "colab": {
          "base_uri": "https://localhost:8080/"
        },
        "id": "DV361Kjv880r",
        "outputId": "5fca4749-1a6e-4e8b-a033-df70911c9b80"
      },
      "source": [
        "# Here i am using dataset from kaggle\n",
        "\n",
        "!wget --no-check-certificate https://storage.googleapis.com/mledu-datasets/cats_and_dogs_filtered.zip -O /tmp/cats_and_dogs_filtered.zip"
      ],
      "execution_count": 14,
      "outputs": [
        {
          "output_type": "stream",
          "text": [
            "--2020-11-26 15:12:01--  https://storage.googleapis.com/mledu-datasets/cats_and_dogs_filtered.zip\n",
            "Resolving storage.googleapis.com (storage.googleapis.com)... 172.217.194.128, 74.125.200.128, 2404:6800:4003:c04::80, ...\n",
            "Connecting to storage.googleapis.com (storage.googleapis.com)|172.217.194.128|:443... connected.\n",
            "HTTP request sent, awaiting response... 200 OK\n",
            "Length: 68606236 (65M) [application/zip]\n",
            "Saving to: ‘/tmp/cats_and_dogs_filtered.zip’\n",
            "\n",
            "/tmp/cats_and_dogs_ 100%[===================>]  65.43M  10.5MB/s    in 6.2s    \n",
            "\n",
            "2020-11-26 15:12:08 (10.5 MB/s) - ‘/tmp/cats_and_dogs_filtered.zip’ saved [68606236/68606236]\n",
            "\n"
          ],
          "name": "stdout"
        }
      ]
    },
    {
      "cell_type": "code",
      "metadata": {
        "id": "LSnXT6iC-KaB"
      },
      "source": [
        "# Extracting Dataset\n",
        "import zipfile\n",
        "import os\n",
        "\n",
        "local_zip = '/tmp/cats_and_dogs_filtered.zip'\n",
        "zip_ref = zipfile.ZipFile(local_zip, 'r')\n",
        "zip_ref.extractall('/tmp')\n",
        "zip_ref.close()"
      ],
      "execution_count": 15,
      "outputs": []
    },
    {
      "cell_type": "code",
      "metadata": {
        "id": "GO64hpdb-q6x"
      },
      "source": [
        "# Preparing Dataset\n",
        "base_dir = '/tmp/cats_and_dogs_filtered'\n",
        "train_dir = os.path.join(base_dir, 'train')\n",
        "validation_dir = os.path.join(base_dir, 'validation')\n",
        "\n",
        "train_cats_dir = os.path.join(train_dir, \"cats\")\n",
        "train_dogs_dir = os.path.join(train_dir, \"dogs\")\n",
        "\n",
        "testing_cats_dir = os.path.join(validation_dir, \"cats\")\n",
        "testing_dogs_dir = os.path.join(validation_dir, \"dogs\")"
      ],
      "execution_count": 16,
      "outputs": []
    },
    {
      "cell_type": "code",
      "metadata": {
        "colab": {
          "base_uri": "https://localhost:8080/"
        },
        "id": "brNWKbLP_Q1q",
        "outputId": "9f47c0d9-0123-484a-84d0-e3397079d6df"
      },
      "source": [
        "print(\"total training cats images:\", len(os.listdir(train_cats_dir)))\n",
        "print(\"total training dogs images:\", len(os.listdir(train_dogs_dir)))\n",
        "print(\"total testing cats images:\", len(os.listdir(testing_cats_dir)))\n",
        "print(\"total testing dogs images:\", len(os.listdir(testing_dogs_dir)))"
      ],
      "execution_count": 17,
      "outputs": [
        {
          "output_type": "stream",
          "text": [
            "total training cats images: 1000\n",
            "total training dogs images: 1000\n",
            "total testing cats images: 500\n",
            "total testing dogs images: 500\n"
          ],
          "name": "stdout"
        }
      ]
    },
    {
      "cell_type": "code",
      "metadata": {
        "id": "ey-3RWUv_mjV"
      },
      "source": [
        "from tensorflow.keras import layers\n",
        "from tensorflow.keras import Model\n",
        "\n",
        "\n",
        "\n",
        "img_input = layers.Input(shape=(150,150,3))\n",
        "\n",
        "x = layers.Conv2D(16, 3, activation='relu')(img_input)\n",
        "x = layers.MaxPooling2D(2)(x)\n",
        "\n",
        "x = layers.Conv2D(32, 3, activation='relu')(x)\n",
        "x = layers.MaxPooling2D(2)(x)\n",
        "\n",
        "x = layers.Conv2D(64, 3, activation='relu')(x)\n",
        "x = layers.MaxPooling2D(2)(x)\n",
        "\n",
        "x = layers.Flatten()(x)\n",
        "\n",
        "x = layers.Dense(512, activation='relu')(x)\n",
        "\n",
        "output = layers.Dense(1, activation='sigmoid')(x)\n",
        "\n",
        "\n",
        "model = Model(img_input, output)"
      ],
      "execution_count": 18,
      "outputs": []
    },
    {
      "cell_type": "code",
      "metadata": {
        "colab": {
          "base_uri": "https://localhost:8080/"
        },
        "id": "gjam_tZqA6a-",
        "outputId": "616f1f3c-68a4-4b4e-f2ee-6683e4ee0a4a"
      },
      "source": [
        "model.summary()"
      ],
      "execution_count": 19,
      "outputs": [
        {
          "output_type": "stream",
          "text": [
            "Model: \"functional_3\"\n",
            "_________________________________________________________________\n",
            "Layer (type)                 Output Shape              Param #   \n",
            "=================================================================\n",
            "input_2 (InputLayer)         [(None, 150, 150, 3)]     0         \n",
            "_________________________________________________________________\n",
            "conv2d_3 (Conv2D)            (None, 148, 148, 16)      448       \n",
            "_________________________________________________________________\n",
            "max_pooling2d_3 (MaxPooling2 (None, 74, 74, 16)        0         \n",
            "_________________________________________________________________\n",
            "conv2d_4 (Conv2D)            (None, 72, 72, 32)        4640      \n",
            "_________________________________________________________________\n",
            "max_pooling2d_4 (MaxPooling2 (None, 36, 36, 32)        0         \n",
            "_________________________________________________________________\n",
            "conv2d_5 (Conv2D)            (None, 34, 34, 64)        18496     \n",
            "_________________________________________________________________\n",
            "max_pooling2d_5 (MaxPooling2 (None, 17, 17, 64)        0         \n",
            "_________________________________________________________________\n",
            "flatten_1 (Flatten)          (None, 18496)             0         \n",
            "_________________________________________________________________\n",
            "dense_2 (Dense)              (None, 512)               9470464   \n",
            "_________________________________________________________________\n",
            "dense_3 (Dense)              (None, 1)                 513       \n",
            "=================================================================\n",
            "Total params: 9,494,561\n",
            "Trainable params: 9,494,561\n",
            "Non-trainable params: 0\n",
            "_________________________________________________________________\n"
          ],
          "name": "stdout"
        }
      ]
    },
    {
      "cell_type": "code",
      "metadata": {
        "id": "VcO3E1ABA-9E"
      },
      "source": [
        "from tensorflow.keras.optimizers import RMSprop\n",
        "\n",
        "model.compile(loss=\"binary_crossentropy\", optimizer=RMSprop(lr=0.001),metrics=['acc'])"
      ],
      "execution_count": 20,
      "outputs": []
    },
    {
      "cell_type": "code",
      "metadata": {
        "colab": {
          "base_uri": "https://localhost:8080/"
        },
        "id": "Q-fq-DlhBbAH",
        "outputId": "6866ed0a-edf1-4021-d78f-ef18a8538df1"
      },
      "source": [
        "from tensorflow.keras.preprocessing.image import ImageDataGenerator\n",
        "\n",
        "\n",
        "train_datagen = ImageDataGenerator(1./255)\n",
        "val_datagen = ImageDataGenerator(1./255)\n",
        "\n",
        "train_generator = train_datagen.flow_from_directory(train_dir, \n",
        "                                                    target_size=(150,150),\n",
        "                                                    batch_size=20,\n",
        "                                                    class_mode=\"binary\")\n",
        "\n",
        "validation_generator = val_datagen.flow_from_directory(validation_dir, \n",
        "                                                    target_size=(150,150),\n",
        "                                                    batch_size=20,\n",
        "                                                    class_mode=\"binary\")"
      ],
      "execution_count": 21,
      "outputs": [
        {
          "output_type": "stream",
          "text": [
            "Found 2000 images belonging to 2 classes.\n",
            "Found 1000 images belonging to 2 classes.\n"
          ],
          "name": "stdout"
        }
      ]
    },
    {
      "cell_type": "code",
      "metadata": {
        "colab": {
          "base_uri": "https://localhost:8080/"
        },
        "id": "g1Cs3kFnDM5c",
        "outputId": "696fd2d7-ace3-464a-b336-37c4f9ce0819"
      },
      "source": [
        "history = model.fit(train_generator,\n",
        "                    steps_per_epoch=100,\n",
        "                    epochs=15,\n",
        "                    validation_data=validation_generator,\n",
        "                    validation_steps=50)"
      ],
      "execution_count": 22,
      "outputs": [
        {
          "output_type": "stream",
          "text": [
            "/usr/local/lib/python3.6/dist-packages/keras_preprocessing/image/image_data_generator.py:720: UserWarning: This ImageDataGenerator specifies `featurewise_center`, but it hasn't been fit on any training data. Fit it first by calling `.fit(numpy_data)`.\n",
            "  warnings.warn('This ImageDataGenerator specifies '\n"
          ],
          "name": "stderr"
        },
        {
          "output_type": "stream",
          "text": [
            "Epoch 1/15\n",
            "100/100 [==============================] - 9s 86ms/step - loss: 51.3825 - acc: 0.5355 - val_loss: 0.7718 - val_acc: 0.5500\n",
            "Epoch 2/15\n",
            "100/100 [==============================] - 9s 85ms/step - loss: 3.4231 - acc: 0.6405 - val_loss: 0.7563 - val_acc: 0.6050\n",
            "Epoch 3/15\n",
            "100/100 [==============================] - 8s 84ms/step - loss: 1.7593 - acc: 0.6430 - val_loss: 0.7924 - val_acc: 0.5580\n",
            "Epoch 4/15\n",
            "100/100 [==============================] - 8s 84ms/step - loss: 1.0399 - acc: 0.6495 - val_loss: 1.3095 - val_acc: 0.5020\n",
            "Epoch 5/15\n",
            "100/100 [==============================] - 8s 84ms/step - loss: 0.7785 - acc: 0.7260 - val_loss: 7.5421 - val_acc: 0.5160\n",
            "Epoch 6/15\n",
            "100/100 [==============================] - 8s 85ms/step - loss: 0.8350 - acc: 0.7815 - val_loss: 0.8919 - val_acc: 0.6220\n",
            "Epoch 7/15\n",
            "100/100 [==============================] - 9s 87ms/step - loss: 0.7475 - acc: 0.7965 - val_loss: 2.5939 - val_acc: 0.5450\n",
            "Epoch 8/15\n",
            "100/100 [==============================] - 9s 85ms/step - loss: 0.5377 - acc: 0.8555 - val_loss: 1.2702 - val_acc: 0.5490\n",
            "Epoch 9/15\n",
            "100/100 [==============================] - 8s 84ms/step - loss: 0.5414 - acc: 0.8940 - val_loss: 1.3034 - val_acc: 0.6090\n",
            "Epoch 10/15\n",
            "100/100 [==============================] - 8s 85ms/step - loss: 0.2033 - acc: 0.9445 - val_loss: 2.0162 - val_acc: 0.6060\n",
            "Epoch 11/15\n",
            "100/100 [==============================] - 8s 84ms/step - loss: 0.1878 - acc: 0.9560 - val_loss: 2.7708 - val_acc: 0.5990\n",
            "Epoch 12/15\n",
            "100/100 [==============================] - 9s 85ms/step - loss: 0.3091 - acc: 0.9565 - val_loss: 2.5243 - val_acc: 0.6470\n",
            "Epoch 13/15\n",
            "100/100 [==============================] - 8s 84ms/step - loss: 0.4226 - acc: 0.9670 - val_loss: 9.9958 - val_acc: 0.5600\n",
            "Epoch 14/15\n",
            "100/100 [==============================] - 9s 85ms/step - loss: 0.4004 - acc: 0.9745 - val_loss: 2.5723 - val_acc: 0.6270\n",
            "Epoch 15/15\n",
            "100/100 [==============================] - 9s 85ms/step - loss: 0.4331 - acc: 0.9710 - val_loss: 3.5082 - val_acc: 0.6160\n"
          ],
          "name": "stdout"
        }
      ]
    },
    {
      "cell_type": "code",
      "metadata": {
        "colab": {
          "base_uri": "https://localhost:8080/"
        },
        "id": "Hp-9SP1LDfsu",
        "outputId": "1192fc3d-e13d-454a-dce1-a5ee7104acd3"
      },
      "source": [
        "model.save(\"perfectmodel\")"
      ],
      "execution_count": 23,
      "outputs": [
        {
          "output_type": "stream",
          "text": [
            "WARNING:tensorflow:From /usr/local/lib/python3.6/dist-packages/tensorflow/python/training/tracking/tracking.py:111: Model.state_updates (from tensorflow.python.keras.engine.training) is deprecated and will be removed in a future version.\n",
            "Instructions for updating:\n",
            "This property should not be used in TensorFlow 2.0, as updates are applied automatically.\n",
            "WARNING:tensorflow:From /usr/local/lib/python3.6/dist-packages/tensorflow/python/training/tracking/tracking.py:111: Layer.updates (from tensorflow.python.keras.engine.base_layer) is deprecated and will be removed in a future version.\n",
            "Instructions for updating:\n",
            "This property should not be used in TensorFlow 2.0, as updates are applied automatically.\n",
            "INFO:tensorflow:Assets written to: perfectmodel/assets\n"
          ],
          "name": "stdout"
        }
      ]
    },
    {
      "cell_type": "code",
      "metadata": {
        "colab": {
          "base_uri": "https://localhost:8080/"
        },
        "id": "fp6-oFT2HN5Q",
        "outputId": "debca968-22cb-488f-d3db-cc5f5e6fe3b0"
      },
      "source": [
        "!zip -r /content/perfectmodel.zip /content/perfectmodel"
      ],
      "execution_count": 24,
      "outputs": [
        {
          "output_type": "stream",
          "text": [
            "  adding: content/perfectmodel/ (stored 0%)\n",
            "  adding: content/perfectmodel/assets/ (stored 0%)\n",
            "  adding: content/perfectmodel/variables/ (stored 0%)\n",
            "  adding: content/perfectmodel/variables/variables.index (deflated 65%)\n",
            "  adding: content/perfectmodel/variables/variables.data-00000-of-00001 (deflated 12%)\n",
            "  adding: content/perfectmodel/saved_model.pb (deflated 89%)\n"
          ],
          "name": "stdout"
        }
      ]
    },
    {
      "cell_type": "code",
      "metadata": {
        "id": "ouDK-PVtJbNc"
      },
      "source": [
        ""
      ],
      "execution_count": null,
      "outputs": []
    }
  ]
}